{
 "cells": [
  {
   "cell_type": "code",
   "execution_count": 1,
   "id": "725bc190",
   "metadata": {
    "_cell_guid": "b1076dfc-b9ad-4769-8c92-a6c4dae69d19",
    "_uuid": "8f2839f25d086af736a60e9eeb907d3b93b6e0e5",
    "execution": {
     "iopub.execute_input": "2021-12-27T23:34:46.945358Z",
     "iopub.status.busy": "2021-12-27T23:34:46.943561Z",
     "iopub.status.idle": "2021-12-27T23:34:46.967323Z",
     "shell.execute_reply": "2021-12-27T23:34:46.967970Z",
     "shell.execute_reply.started": "2021-12-27T04:22:43.308759Z"
    },
    "papermill": {
     "duration": 0.041425,
     "end_time": "2021-12-27T23:34:46.968347",
     "exception": false,
     "start_time": "2021-12-27T23:34:46.926922",
     "status": "completed"
    },
    "tags": []
   },
   "outputs": [
    {
     "name": "stdout",
     "output_type": "stream",
     "text": [
      "/kaggle/input/disease-prediction-using-machine-learning/Training.csv\n",
      "/kaggle/input/disease-prediction-using-machine-learning/Testing.csv\n"
     ]
    }
   ],
   "source": [
    "import pandas as pd\n",
    "import numpy as np\n",
    "\n",
    "\n",
    "\n",
    "import os\n",
    "for dirname, _, filenames in os.walk('/kaggle/input'):\n",
    "    for filename in filenames:\n",
    "        print(os.path.join(dirname, filename))\n"
   ]
  },
  {
   "cell_type": "markdown",
   "id": "906620df",
   "metadata": {
    "papermill": {
     "duration": 0.011534,
     "end_time": "2021-12-27T23:34:46.992020",
     "exception": false,
     "start_time": "2021-12-27T23:34:46.980486",
     "status": "completed"
    },
    "tags": []
   },
   "source": [
    "* The data is extracted below "
   ]
  },
  {
   "cell_type": "code",
   "execution_count": 2,
   "id": "6f8bb909",
   "metadata": {
    "execution": {
     "iopub.execute_input": "2021-12-27T23:34:47.019262Z",
     "iopub.status.busy": "2021-12-27T23:34:47.018463Z",
     "iopub.status.idle": "2021-12-27T23:34:47.144336Z",
     "shell.execute_reply": "2021-12-27T23:34:47.143695Z",
     "shell.execute_reply.started": "2021-12-27T04:22:43.319401Z"
    },
    "papermill": {
     "duration": 0.140881,
     "end_time": "2021-12-27T23:34:47.144540",
     "exception": false,
     "start_time": "2021-12-27T23:34:47.003659",
     "status": "completed"
    },
    "tags": []
   },
   "outputs": [],
   "source": [
    "training = pd.read_csv(\"../input/disease-prediction-using-machine-learning/Training.csv\")\n",
    "training\n",
    "testing = pd.read_csv(\"../input/disease-prediction-using-machine-learning/Testing.csv\")"
   ]
  },
  {
   "cell_type": "markdown",
   "id": "4691a445",
   "metadata": {
    "papermill": {
     "duration": 0.0113,
     "end_time": "2021-12-27T23:34:47.167706",
     "exception": false,
     "start_time": "2021-12-27T23:34:47.156406",
     "status": "completed"
    },
    "tags": []
   },
   "source": [
    "* The symptoms associated with the various diseases are extracted below"
   ]
  },
  {
   "cell_type": "code",
   "execution_count": 3,
   "id": "3652b7d6",
   "metadata": {
    "execution": {
     "iopub.execute_input": "2021-12-27T23:34:47.210399Z",
     "iopub.status.busy": "2021-12-27T23:34:47.200605Z",
     "iopub.status.idle": "2021-12-27T23:34:47.221223Z",
     "shell.execute_reply": "2021-12-27T23:34:47.221846Z",
     "shell.execute_reply.started": "2021-12-27T04:22:43.401867Z"
    },
    "papermill": {
     "duration": 0.042244,
     "end_time": "2021-12-27T23:34:47.222047",
     "exception": false,
     "start_time": "2021-12-27T23:34:47.179803",
     "status": "completed"
    },
    "tags": []
   },
   "outputs": [
    {
     "data": {
      "text/plain": [
       "Index(['itching', 'skin_rash', 'nodal_skin_eruptions', 'continuous_sneezing',\n",
       "       'shivering', 'chills', 'joint_pain', 'stomach_pain', 'acidity',\n",
       "       'ulcers_on_tongue',\n",
       "       ...\n",
       "       'blackheads', 'scurring', 'skin_peeling', 'silver_like_dusting',\n",
       "       'small_dents_in_nails', 'inflammatory_nails', 'blister',\n",
       "       'red_sore_around_nose', 'yellow_crust_ooze', 'prognosis'],\n",
       "      dtype='object', length=133)"
      ]
     },
     "execution_count": 3,
     "metadata": {},
     "output_type": "execute_result"
    }
   ],
   "source": [
    "training.drop('Unnamed: 133', axis=1, inplace=True)\n",
    "training.columns"
   ]
  },
  {
   "cell_type": "markdown",
   "id": "d739464b",
   "metadata": {
    "papermill": {
     "duration": 0.012323,
     "end_time": "2021-12-27T23:34:47.246376",
     "exception": false,
     "start_time": "2021-12-27T23:34:47.234053",
     "status": "completed"
    },
    "tags": []
   },
   "source": [
    "* The various diseases and the instances in which they occur are listed below"
   ]
  },
  {
   "cell_type": "markdown",
   "id": "12c05476",
   "metadata": {
    "papermill": {
     "duration": 0.011309,
     "end_time": "2021-12-27T23:34:47.269604",
     "exception": false,
     "start_time": "2021-12-27T23:34:47.258295",
     "status": "completed"
    },
    "tags": []
   },
   "source": []
  },
  {
   "cell_type": "code",
   "execution_count": 4,
   "id": "aaacd889",
   "metadata": {
    "execution": {
     "iopub.execute_input": "2021-12-27T23:34:47.301556Z",
     "iopub.status.busy": "2021-12-27T23:34:47.300721Z",
     "iopub.status.idle": "2021-12-27T23:34:47.310985Z",
     "shell.execute_reply": "2021-12-27T23:34:47.310478Z",
     "shell.execute_reply.started": "2021-12-27T04:22:43.414995Z"
    },
    "papermill": {
     "duration": 0.029638,
     "end_time": "2021-12-27T23:34:47.311139",
     "exception": false,
     "start_time": "2021-12-27T23:34:47.281501",
     "status": "completed"
    },
    "tags": []
   },
   "outputs": [
    {
     "data": {
      "text/plain": [
       "Fungal infection                           120\n",
       "Hepatitis C                                120\n",
       "Hepatitis E                                120\n",
       "Alcoholic hepatitis                        120\n",
       "Tuberculosis                               120\n",
       "Common Cold                                120\n",
       "Pneumonia                                  120\n",
       "Dimorphic hemmorhoids(piles)               120\n",
       "Heart attack                               120\n",
       "Varicose veins                             120\n",
       "Hypothyroidism                             120\n",
       "Hyperthyroidism                            120\n",
       "Hypoglycemia                               120\n",
       "Osteoarthristis                            120\n",
       "Arthritis                                  120\n",
       "(vertigo) Paroymsal  Positional Vertigo    120\n",
       "Acne                                       120\n",
       "Urinary tract infection                    120\n",
       "Psoriasis                                  120\n",
       "Hepatitis D                                120\n",
       "Hepatitis B                                120\n",
       "Allergy                                    120\n",
       "hepatitis A                                120\n",
       "GERD                                       120\n",
       "Chronic cholestasis                        120\n",
       "Drug Reaction                              120\n",
       "Peptic ulcer diseae                        120\n",
       "AIDS                                       120\n",
       "Diabetes                                   120\n",
       "Gastroenteritis                            120\n",
       "Bronchial Asthma                           120\n",
       "Hypertension                               120\n",
       "Migraine                                   120\n",
       "Cervical spondylosis                       120\n",
       "Paralysis (brain hemorrhage)               120\n",
       "Jaundice                                   120\n",
       "Malaria                                    120\n",
       "Chicken pox                                120\n",
       "Dengue                                     120\n",
       "Typhoid                                    120\n",
       "Impetigo                                   120\n",
       "Name: prognosis, dtype: int64"
      ]
     },
     "execution_count": 4,
     "metadata": {},
     "output_type": "execute_result"
    }
   ],
   "source": [
    "training['prognosis'].value_counts()"
   ]
  },
  {
   "cell_type": "markdown",
   "id": "1fbaef92",
   "metadata": {
    "papermill": {
     "duration": 0.011772,
     "end_time": "2021-12-27T23:34:47.335006",
     "exception": false,
     "start_time": "2021-12-27T23:34:47.323234",
     "status": "completed"
    },
    "tags": []
   },
   "source": []
  },
  {
   "cell_type": "code",
   "execution_count": 5,
   "id": "9b08b3f1",
   "metadata": {
    "execution": {
     "iopub.execute_input": "2021-12-27T23:34:47.374351Z",
     "iopub.status.busy": "2021-12-27T23:34:47.373582Z",
     "iopub.status.idle": "2021-12-27T23:34:47.376569Z",
     "shell.execute_reply": "2021-12-27T23:34:47.377020Z",
     "shell.execute_reply.started": "2021-12-27T04:22:43.428582Z"
    },
    "papermill": {
     "duration": 0.03016,
     "end_time": "2021-12-27T23:34:47.377237",
     "exception": false,
     "start_time": "2021-12-27T23:34:47.347077",
     "status": "completed"
    },
    "tags": []
   },
   "outputs": [
    {
     "name": "stdout",
     "output_type": "stream",
     "text": [
      "X_train : (4920, 132) \n",
      "y_train : (4920, 1) \n",
      "X_test: (42, 132) \n",
      "y_test : (42, 1)\n"
     ]
    }
   ],
   "source": [
    "X_train = training.drop('prognosis', axis=1)\n",
    "y_train = training['prognosis']\n",
    "y_train = np.array(y_train).reshape(y_train.shape[0], 1)\n",
    "\n",
    "X_test = testing.drop('prognosis', axis=1)\n",
    "y_test = testing['prognosis']\n",
    "y_test = np.array(y_test).reshape(y_test.shape[0], 1)\n",
    "\n",
    "print(\"X_train : {} \\ny_train : {} \\nX_test: {} \\ny_test : {}\".format(X_train.shape, y_train.shape, X_test.shape, y_test.shape))\n"
   ]
  },
  {
   "cell_type": "markdown",
   "id": "4fb78b8e",
   "metadata": {
    "papermill": {
     "duration": 0.012184,
     "end_time": "2021-12-27T23:34:47.401933",
     "exception": false,
     "start_time": "2021-12-27T23:34:47.389749",
     "status": "completed"
    },
    "tags": []
   },
   "source": []
  },
  {
   "cell_type": "markdown",
   "id": "f8183102",
   "metadata": {
    "papermill": {
     "duration": 0.012316,
     "end_time": "2021-12-27T23:34:47.426790",
     "exception": false,
     "start_time": "2021-12-27T23:34:47.414474",
     "status": "completed"
    },
    "tags": []
   },
   "source": [
    "Using a Decision Tree Algorithm, the model is trained based on the given data"
   ]
  },
  {
   "cell_type": "markdown",
   "id": "e6e56970",
   "metadata": {
    "papermill": {
     "duration": 0.012088,
     "end_time": "2021-12-27T23:34:47.451442",
     "exception": false,
     "start_time": "2021-12-27T23:34:47.439354",
     "status": "completed"
    },
    "tags": []
   },
   "source": [
    "* The accuracy of the disease prediction model is 97.62%"
   ]
  },
  {
   "cell_type": "code",
   "execution_count": 6,
   "id": "0b39abf7",
   "metadata": {
    "execution": {
     "iopub.execute_input": "2021-12-27T23:34:47.483477Z",
     "iopub.status.busy": "2021-12-27T23:34:47.479879Z",
     "iopub.status.idle": "2021-12-27T23:34:48.910283Z",
     "shell.execute_reply": "2021-12-27T23:34:48.909133Z",
     "shell.execute_reply.started": "2021-12-27T04:22:43.446469Z"
    },
    "papermill": {
     "duration": 1.446635,
     "end_time": "2021-12-27T23:34:48.910594",
     "exception": false,
     "start_time": "2021-12-27T23:34:47.463959",
     "status": "completed"
    },
    "tags": []
   },
   "outputs": [
    {
     "name": "stdout",
     "output_type": "stream",
     "text": [
      "Accuracy on test set: 97.62%\n"
     ]
    }
   ],
   "source": [
    "from sklearn.tree import DecisionTreeClassifier\n",
    "from sklearn.metrics import classification_report,accuracy_score\n",
    "tree = DecisionTreeClassifier()\n",
    "tree.fit(X_train, y_train)\n",
    "\n",
    "pred = tree.predict(X_test)\n",
    "acc = tree.score(X_test, y_test)\n",
    "\n",
    "print(\"Accuracy on test set: {:.2f}%\".format(acc*100))"
   ]
  },
  {
   "cell_type": "code",
   "execution_count": null,
   "id": "6551960b",
   "metadata": {
    "papermill": {
     "duration": 0.013893,
     "end_time": "2021-12-27T23:34:48.939365",
     "exception": false,
     "start_time": "2021-12-27T23:34:48.925472",
     "status": "completed"
    },
    "tags": []
   },
   "outputs": [],
   "source": []
  },
  {
   "cell_type": "markdown",
   "id": "5a733bda",
   "metadata": {
    "papermill": {
     "duration": 0.014634,
     "end_time": "2021-12-27T23:34:48.967740",
     "exception": false,
     "start_time": "2021-12-27T23:34:48.953106",
     "status": "completed"
    },
    "tags": []
   },
   "source": []
  }
 ],
 "metadata": {
  "kernelspec": {
   "display_name": "Python 3",
   "language": "python",
   "name": "python3"
  },
  "language_info": {
   "codemirror_mode": {
    "name": "ipython",
    "version": 3
   },
   "file_extension": ".py",
   "mimetype": "text/x-python",
   "name": "python",
   "nbconvert_exporter": "python",
   "pygments_lexer": "ipython3",
   "version": "3.7.12"
  },
  "papermill": {
   "default_parameters": {},
   "duration": 13.470979,
   "end_time": "2021-12-27T23:34:49.895489",
   "environment_variables": {},
   "exception": null,
   "input_path": "__notebook__.ipynb",
   "output_path": "__notebook__.ipynb",
   "parameters": {},
   "start_time": "2021-12-27T23:34:36.424510",
   "version": "2.3.3"
  }
 },
 "nbformat": 4,
 "nbformat_minor": 5
}
